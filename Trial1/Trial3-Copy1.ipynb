{
 "cells": [
  {
   "cell_type": "code",
   "execution_count": 1,
   "metadata": {},
   "outputs": [
    {
     "name": "stdout",
     "output_type": "stream",
     "text": [
      "Pretty printing has been turned OFF\n"
     ]
    }
   ],
   "source": [
    "%pprint #use this to change print sye"
   ]
  },
  {
   "cell_type": "code",
   "execution_count": 2,
   "metadata": {},
   "outputs": [],
   "source": [
    "import random"
   ]
  },
  {
   "cell_type": "code",
   "execution_count": 3,
   "metadata": {},
   "outputs": [],
   "source": [
    "def return_type_n(file):\n",
    "    import csv\n",
    "    with open('reuc_100', newline='') as csvfile:\n",
    "        reader = csv.reader(csvfile, delimiter=' ') #, quotechar='|')\n",
    "        for i, row in enumerate(reader):\n",
    "            if i ==0:\n",
    "                Type=row[0]\n",
    "            elif i ==1:\n",
    "                n=int(row[0])\n",
    "            else:\n",
    "                break\n",
    "    return (Type,n)\n",
    "            "
   ]
  },
  {
   "cell_type": "code",
   "execution_count": 4,
   "metadata": {},
   "outputs": [],
   "source": [
    "def distmatrix(N):\n",
    "    import csv\n",
    "    DIST=[]\n",
    "    with open('reuc_100', newline='') as csvfile:\n",
    "        reader = csv.reader(csvfile, delimiter=' ') #, quotechar='|')\n",
    "        for i, row in enumerate(reader):\n",
    "            if i >= 2+N:\n",
    "                DIST.append(list(map(float, row)))\n",
    "        return (DIST)\n",
    "    return(999999999999999999)\n",
    "            "
   ]
  },
  {
   "cell_type": "code",
   "execution_count": 5,
   "metadata": {},
   "outputs": [],
   "source": [
    "def closest(D, n):\n",
    "    closest = []\n",
    "    for i in range(n):\n",
    "        dlist = [[D[i][j] ,j] for j in range(n) if j != i]#generates a list of neighbours sorted with distance from i to j\n",
    "        dlist.sort()\n",
    "        closest.append(dlist)\n",
    "    return closest"
   ]
  },
  {
   "cell_type": "code",
   "execution_count": 6,
   "metadata": {},
   "outputs": [],
   "source": [
    "def length(tour,D,N):\n",
    "    z = dist(tour[0][-1], tour[0][0],D)    # edge from last to first city of the tour\n",
    "    z+=sum(tour[1])      # add length of edge from city i-1 to i\n",
    "    return z\n"
   ]
  },
  {
   "cell_type": "code",
   "execution_count": 7,
   "metadata": {},
   "outputs": [],
   "source": [
    "def is_in(j,LIST):\n",
    "    for i in LIST:\n",
    "        if j==i:\n",
    "            return True\n",
    "    return False"
   ]
  },
  {
   "cell_type": "code",
   "execution_count": 8,
   "metadata": {},
   "outputs": [],
   "source": [
    "def return_nearest(i,A,unvisited):\n",
    "    j=0\n",
    "    #print(len(A))\n",
    "    while j < len(A):\n",
    "        c=A[i][j][1]\n",
    "        if is_in(c,unvisited):\n",
    "            return A[i][j]\n",
    "        else:\n",
    "            j+=1\n",
    "    return[999]\n",
    "    "
   ]
  },
  {
   "cell_type": "code",
   "execution_count": 9,
   "metadata": {},
   "outputs": [],
   "source": [
    "def create_tour(D,i,N):\n",
    "    unvisited=list(range(N))\n",
    "    A=closest(D,N)\n",
    "    length=[]\n",
    "    prev=i\n",
    "    Tour=[i]\n",
    "    unvisited.remove(i)\n",
    "    while unvisited!=[]:\n",
    "        temp=return_nearest(prev,A,unvisited)\n",
    "        next=temp[1]\n",
    "        length.append(temp[0])\n",
    "        Tour.append(next)\n",
    "        unvisited.remove(next)\n",
    "        prev=next\n",
    "    cost=sum(length)\n",
    "    cost=cost+D[next][i]\n",
    "    return (Tour,cost)"
   ]
  },
  {
   "cell_type": "code",
   "execution_count": 10,
   "metadata": {},
   "outputs": [],
   "source": [
    "def create_rand_tour(D,i,N):\n",
    "    unvisited=list(range(N))\n",
    "    length=[]\n",
    "    prev=i\n",
    "    Tour=[i]\n",
    "    unvisited.remove(i)\n",
    "    while unvisited!=[]:\n",
    "        temp=random.choice(unvisited)\n",
    "        next=temp\n",
    "        Tour.append(next)\n",
    "        unvisited.remove(next)\n",
    "        prev=next\n",
    "    rcost=cost(Tour,D)\n",
    "    return (Tour,rcost)\n",
    "    "
   ]
  },
  {
   "cell_type": "code",
   "execution_count": 11,
   "metadata": {},
   "outputs": [],
   "source": [
    "def cost(Tour,D):#use only for GA created Tours with no added distance sum\n",
    "    rcost=0\n",
    "    lenght=len(Tour)\n",
    "    for i in range(lenght-1):\n",
    "        rcost=rcost+D[Tour[i]][Tour[i+1]]\n",
    "        #print(rcost)\n",
    "    rcost=rcost+D[Tour[lenght-1]][Tour[0]]\n",
    "    return rcost"
   ]
  },
  {
   "cell_type": "code",
   "execution_count": 12,
   "metadata": {},
   "outputs": [],
   "source": [
    "def sortsol(l):\n",
    "    l.sort(key = lambda x: x[1])  \n",
    "    return l"
   ]
  },
  {
   "cell_type": "code",
   "execution_count": 13,
   "metadata": {},
   "outputs": [],
   "source": [
    "def fitness(sol):\n",
    "    sum=0\n",
    "    fitness_sum=0\n",
    "    fitness=[]\n",
    "    for i in range(len(sol)):\n",
    "        fitness_sum=fitness_sum+(1/sol[i][1])**2\n",
    "    for j in range(len(sol)):\n",
    "        a=((1/(sol[j][1])**2)/(fitness_sum))\n",
    "        fitness.append(a)\n",
    "    return fitness\n",
    "    "
   ]
  },
  {
   "cell_type": "code",
   "execution_count": 14,
   "metadata": {},
   "outputs": [],
   "source": [
    "def mk_parent(sol,Fitness,bestsize):\n",
    "    parents=[]\n",
    "    #for i in range(bestsize):\n",
    "        #parents.append(sol[i][0])\n",
    "    psum=0\n",
    "    i=0\n",
    "    for i in range(0, len(sol)): #- bestsize):\n",
    "        a=random.uniform(0,1)\n",
    "        psum=0\n",
    "        i=0\n",
    "        while True:\n",
    "            psum+=Fitness[i]\n",
    "            if psum>=a:\n",
    "                parents.append(sol[i][0])\n",
    "                break\n",
    "            i+=1\n",
    "    return parents\n"
   ]
  },
  {
   "cell_type": "code",
   "execution_count": 15,
   "metadata": {},
   "outputs": [],
   "source": [
    "def make_babies(parent1, parent2):\n",
    "    child = []\n",
    "    child_1 = []\n",
    "    half1_1=[]\n",
    "    half1_2=[]\n",
    "    child_2 = []\n",
    "    half2_1=[]\n",
    "    half2_2=[]\n",
    "    \n",
    "    splicepoint1 = int(random.random() * len(parent1))\n",
    "    splicepoint2 = int(random.random() * len(parent1))\n",
    "    \n",
    "    startsplice = min(splicepoint1, splicepoint2)\n",
    "    endsplice = max(splicepoint1, splicepoint2)\n",
    "\n",
    "    for i in range(startsplice, endsplice):\n",
    "        half1_1.append(parent1[i])\n",
    "        #print(parent2)\n",
    "        half2_1.append(parent2[i])\n",
    "        \n",
    "    half1_2 = [j for j in parent2 if j not in half1_1]\n",
    "    half2_2 = [j for j in parent1 if j not in half2_1]\n",
    "\n",
    "    child_1 = half1_1+half1_2\n",
    "    child_2 = half2_1+half2_2\n",
    "    return [child_1,child_2]"
   ]
  },
  {
   "cell_type": "code",
   "execution_count": 16,
   "metadata": {},
   "outputs": [],
   "source": [
    "def make_babiesnew(parent1, parent2):\n",
    "    child = []\n",
    "    child_1 = []\n",
    "    half1_1=[]\n",
    "    half1_2=[]\n",
    "    child_2 = []\n",
    "    half2_1=[]\n",
    "    half2_2=[]\n",
    "    \n",
    "    splicepoint1 = int(random.uniform(0.8,1) * len(parent1))\n",
    "    splicepoint2 = int(random.uniform(0.8,1) * len(parent1))\n",
    "    \n",
    "    startsplice = min(splicepoint1, splicepoint2)\n",
    "    endsplice = max(splicepoint1, splicepoint2)\n",
    "\n",
    "    for i in range(startsplice, endsplice):\n",
    "        half1_1.append(parent1[i])\n",
    "        #print(parent2)\n",
    "        half2_1.append(parent2[i])\n",
    "        \n",
    "    half1_2 = [j for j in parent2 if j not in half1_1]\n",
    "    half2_2 = [j for j in parent1 if j not in half2_1]\n",
    "\n",
    "    child_1 = half1_1+half1_2\n",
    "    child_2 = half2_1+half2_2\n",
    "    return [child_1,child_2]"
   ]
  },
  {
   "cell_type": "code",
   "execution_count": 17,
   "metadata": {},
   "outputs": [],
   "source": [
    "def babies(parents, bestsize):\n",
    "    children = []\n",
    "    length = len(parents) - bestsize\n",
    "    parentset = random.sample(parents, len(parents))\n",
    "\n",
    "    #for i in range(0,bestsize):\n",
    "        #children.append(parents[i])\n",
    "    \n",
    "    for i in range(0, length):\n",
    "        child = make_babies(parentset[i], parentset[len(parents)-i-1])\n",
    "        children.append(child[0])\n",
    "        children.append(child[1])\n",
    "    return children"
   ]
  },
  {
   "cell_type": "code",
   "execution_count": 18,
   "metadata": {},
   "outputs": [],
   "source": [
    "def babiesnew(parents, bestsize):\n",
    "    children = []\n",
    "    length = len(parents) - bestsize\n",
    "    parentset = random.sample(parents, len(parents))\n",
    "\n",
    "    #for i in range(0,bestsize):\n",
    "        #children.append(parents[i])\n",
    "    \n",
    "    for i in range(0, length):\n",
    "        child = make_babiesnew(parentset[i], parentset[len(parents)-i-1])\n",
    "        children.append(child[0])\n",
    "        children.append(child[1])\n",
    "    return children"
   ]
  },
  {
   "cell_type": "code",
   "execution_count": 19,
   "metadata": {},
   "outputs": [],
   "source": [
    "def mutate(route,rate):\n",
    "    for i in range(len(route)):\n",
    "        #if (random.uniform(0,1) < rate):\n",
    "        if (random.uniform(0,1) < rate):\n",
    "            j=int(random.random()*len(route))\n",
    "            \n",
    "            cityA=route[i]\n",
    "            cityB=route[j]\n",
    "            \n",
    "            route[i]=cityB\n",
    "            route[j]=cityA\n",
    "    return route"
   ]
  },
  {
   "cell_type": "code",
   "execution_count": 20,
   "metadata": {},
   "outputs": [],
   "source": [
    "def mutate1(route,rate):\n",
    "    route1=route[:]#mutable list for repeated mutation of same elemet\n",
    "    for i in range(len(route)):\n",
    "        #if (random.uniform(0,1) < rate):\n",
    "        if (random.random() < rate):\n",
    "            j=int(random.random()*len(route))\n",
    "            \n",
    "            cityA=route[i]\n",
    "            cityB=route[j]\n",
    "            \n",
    "            route1[i]=cityB\n",
    "            route1[j]=cityA\n",
    "    return route1"
   ]
  },
  {
   "cell_type": "code",
   "execution_count": 21,
   "metadata": {},
   "outputs": [],
   "source": [
    "def make_sol(tempsol):\n",
    "    A=[]\n",
    "    costtemp=0\n",
    "    for i in range(len(tempsol)):\n",
    "        costtemp=cost(tempsol[i],D)\n",
    "        A.append((tempsol[i],costtemp))\n",
    "    return A"
   ]
  },
  {
   "cell_type": "code",
   "execution_count": 22,
   "metadata": {},
   "outputs": [],
   "source": [
    "def mutate_children(children, rate):\n",
    "    mutated=[]\n",
    "    for i in range(len(children)):\n",
    "        mutatedchild=mutate(children[i],rate)\n",
    "        mutated.append(mutatedchild)\n",
    "    return mutated\n"
   ]
  },
  {
   "cell_type": "code",
   "execution_count": 23,
   "metadata": {},
   "outputs": [],
   "source": [
    "def genetic_algorithm(D,N,genrations,rate,bestsize=2):\n",
    "    import random\n",
    "\n",
    "    sol=[]\n",
    "    solution=[]\n",
    "    bestsize=2\n",
    "    performance=[]\n",
    "    for i in range(N):\n",
    "        T=create_tour(D,i,N)\n",
    "        sol.append(T)\n",
    "        sol=sortsol(sol)\n",
    "    solution=sol[:]\n",
    "    performance.append((sol[0][1],0))\n",
    "    rerate=rate\n",
    "    \n",
    "        \n",
    "    for i in range(genrations):\n",
    "        selected=solution[0:int(N/2)]\n",
    "        R=fitness(selected)\n",
    "        parents=mk_parent(selected,fitness(selected),bestsize)\n",
    "        if genrations < 20:\n",
    "            children=babiesnew(parents,bestsize)\n",
    "        else:\n",
    "            children=babies(parents,bestsize)\n",
    "        solset=mutate_children(children,rate)    \n",
    "        solution=make_sol(solset)\n",
    "        for j in range(0,bestsize):\n",
    "            solution.append(selected[j])\n",
    "        solution=sortsol(solution)\n",
    "        #print(solution)\n",
    "        best=solution[0]\n",
    "        performance.append((best[1],i))\n",
    "        i+=1\n",
    "        rerate=(rerate+(i/(2*genrations)))\n",
    "    return (best,performance)\n",
    "        \n",
    "        "
   ]
  },
  {
   "cell_type": "code",
   "execution_count": 24,
   "metadata": {},
   "outputs": [],
   "source": [
    "def genetic_algorithmr(D,N,genrations,rate,bestsize=2):\n",
    "    import random\n",
    "\n",
    "    sol=[]\n",
    "    solution=[]\n",
    "    bestsize=2\n",
    "    performance=[]\n",
    "    for i in range(N):\n",
    "        T=create_rand_tour(D,i,N)\n",
    "        sol.append(T)\n",
    "        sol=sortsol(sol)\n",
    "    solution=sol[:]\n",
    "    performance.append((sol[0][1],0))\n",
    "    \n",
    "        \n",
    "    for i in range(genrations):\n",
    "        selected=solution[0:int(N/2)]\n",
    "        R=fitness(selected)\n",
    "        parents=mk_parent(selected,fitness(selected),bestsize)\n",
    "        if genrations < 20:\n",
    "            children=babiesnew(parents,bestsize)\n",
    "        else:\n",
    "            children=babies(parents,bestsize)\n",
    "        solset=mutate_children(children,rate)\n",
    "        solution=make_sol(solset)\n",
    "        for j in range(0,bestsize):\n",
    "            solution.append(selected[j])\n",
    "        solution=sortsol(solution)\n",
    "        #print(solution)\n",
    "        best=solution[0]\n",
    "        performance.append((best[1],i))\n",
    "        i+=1\n",
    "    return (best,performance)\n",
    "        \n",
    "        "
   ]
  },
  {
   "cell_type": "code",
   "execution_count": 34,
   "metadata": {},
   "outputs": [],
   "source": [
    "N=return_type_n(1)[1]\n",
    "D=distmatrix(N)\n",
    "r=genetic_algorithmr(D,N,5000,0.01)"
   ]
  },
  {
   "cell_type": "code",
   "execution_count": 35,
   "metadata": {},
   "outputs": [],
   "source": [
    "N=return_type_n(1)[1]\n",
    "D=distmatrix(N)\n",
    "ra=genetic_algorithm(D,N,5000,0.01)"
   ]
  },
  {
   "cell_type": "code",
   "execution_count": 27,
   "metadata": {},
   "outputs": [
    {
     "data": {
      "text/plain": [
       "([70, 18, 72, 15, 69, 64, 2, 51, 3, 96, 16, 99, 60, 81, 82, 73, 43, 65, 28, 12, 23, 98, 76, 34, 61, 79, 10, 4, 6, 8, 84, 39, 52, 35, 31, 54, 63, 90, 75, 30, 17, 62, 97, 22, 19, 78, 41, 67, 38, 44, 58, 88, 57, 45, 25, 48, 29, 92, 74, 85, 37, 11, 20, 47, 59, 49, 32, 9, 50, 27, 5, 13, 46, 91, 36, 86, 33, 71, 68, 53, 1, 42, 14, 77, 55, 66, 40, 94, 83, 24, 80, 21, 0, 7, 89, 56, 87, 93, 26, 95], 1735.2316384933401)"
      ]
     },
     "execution_count": 27,
     "metadata": {},
     "output_type": "execute_result"
    }
   ],
   "source": [
    "ra[0]"
   ]
  },
  {
   "cell_type": "code",
   "execution_count": 38,
   "metadata": {},
   "outputs": [
    {
     "data": {
      "image/png": "[encoded data removed]",
      "text/plain": [
       "<Figure size 432x288 with 1 Axes>"
      ]
     },
     "metadata": {
      "needs_background": "light"
     },
     "output_type": "display_data"
    }
   ],
   "source": [
    "import matplotlib.pyplot as plt\n",
    ">>> from math import log\n",
    ">>> testList2 = [(elem1, elem2) for elem2, elem1 in r[1]]\n",
    ">>> zip(*testList2)\n",
    ">>> plt.scatter(*zip(*testList2))\n",
    ">>> plt.show()"
   ]
  },
  {
   "cell_type": "code",
   "execution_count": null,
   "metadata": {},
   "outputs": [],
   "source": [
    "fo"
   ]
  },
  {
   "cell_type": "code",
   "execution_count": 39,
   "metadata": {},
   "outputs": [
    {
     "data": {
      "image/png": "[encoded data removed]",
      "text/plain": [
       "<Figure size 432x288 with 1 Axes>"
      ]
     },
     "metadata": {
      "needs_background": "light"
     },
     "output_type": "display_data"
    }
   ],
   "source": [
    "import matplotlib.pyplot as plt\n",
    ">>> from math import log\n",
    ">>> testList2 = [(elem1, elem2) for elem2, elem1 in ra[1]]\n",
    ">>> zip(*testList2)\n",
    ">>> plt.scatter(*zip(*testList2))\n",
    ">>> plt.show()"
   ]
  },
  {
   "cell_type": "code",
   "execution_count": 30,
   "metadata": {},
   "outputs": [],
   "source": [
    "def make_sol1(tempsol):\n",
    "    A=[]\n",
    "    costtemp=0\n",
    "    for i in range(len(tempsol)):\n",
    "        costtemp=cost(tempsol[i],D)\n",
    "        A.append((tempsol[i],costtemp))\n",
    "    return A"
   ]
  },
  {
   "cell_type": "code",
   "execution_count": 31,
   "metadata": {},
   "outputs": [],
   "source": [
    "def makepoints(a):\n",
    "    import csv\n",
    "    point=[]\n",
    "    pointx=[]\n",
    "    pointy=[]\n",
    "    pointlabel=[]\n",
    "    with open('reuc_100', newline='') as csvfile:\n",
    "        reader = csv.reader(csvfile, delimiter=' ') #, quotechar='|')\n",
    "        for i, row in enumerate(reader):\n",
    "            if i>1 and i<N+2:\n",
    "                point.append((float(row[0]),float(row[1])))\n",
    "                pointx.append(float(row[0]))\n",
    "                pointy.append(float(row[1]))\n",
    "                pointlabel.append(str(i))\n",
    "    return(pointx,pointy,point,pointlabel)"
   ]
  },
  {
   "cell_type": "code",
   "execution_count": 32,
   "metadata": {},
   "outputs": [],
   "source": [
    "def make_pairs(tour):\n",
    "    opa=[]\n",
    "    for i in range(len(tour[0])-1):\n",
    "        opa.append((tour[0][i],tour[0][i+1]))\n",
    "    opa.append((tour[0][i+1],tour[0][0]))\n",
    "    return opa"
   ]
  },
  {
   "cell_type": "code",
   "execution_count": 1,
   "metadata": {},
   "outputs": [
    {
     "ename": "NameError",
     "evalue": "name 'makepoints' is not defined",
     "output_type": "error",
     "traceback": [
      "\u001b[1;31m---------------------------------------------------------------------------\u001b[0m",
      "\u001b[1;31mNameError\u001b[0m                                 Traceback (most recent call last)",
      "\u001b[1;32m<ipython-input-1-40a1c05d816b>\u001b[0m in \u001b[0;36m<module>\u001b[1;34m\u001b[0m\n\u001b[0;32m      3\u001b[0m \u001b[1;33m\u001b[0m\u001b[0m\n\u001b[0;32m      4\u001b[0m \u001b[1;33m\u001b[0m\u001b[0m\n\u001b[1;32m----> 5\u001b[1;33m \u001b[0mpos\u001b[0m \u001b[1;33m=\u001b[0m \u001b[0mmakepoints\u001b[0m\u001b[1;33m(\u001b[0m\u001b[1;34m'a'\u001b[0m\u001b[1;33m)\u001b[0m\u001b[1;33m[\u001b[0m\u001b[1;36m2\u001b[0m\u001b[1;33m]\u001b[0m\u001b[1;31m#coordinates, (x, y) for 10 nodes\u001b[0m\u001b[1;33m\u001b[0m\u001b[1;33m\u001b[0m\u001b[0m\n\u001b[0m\u001b[0;32m      6\u001b[0m \u001b[0mconnect\u001b[0m \u001b[1;33m=\u001b[0m \u001b[0mmake_pairs\u001b[0m\u001b[1;33m(\u001b[0m\u001b[1;33m(\u001b[0m\u001b[0mra\u001b[0m\u001b[1;33m[\u001b[0m\u001b[1;36m0\u001b[0m\u001b[1;33m]\u001b[0m\u001b[1;33m)\u001b[0m\u001b[1;33m)\u001b[0m \u001b[1;31m#random connections\u001b[0m\u001b[1;33m\u001b[0m\u001b[1;33m\u001b[0m\u001b[0m\n\u001b[0;32m      7\u001b[0m \u001b[1;31m#print(connect)\u001b[0m\u001b[1;33m\u001b[0m\u001b[1;33m\u001b[0m\u001b[1;33m\u001b[0m\u001b[0m\n",
      "\u001b[1;31mNameError\u001b[0m: name 'makepoints' is not defined"
     ]
    }
   ],
   "source": [
    "import networkx as nx\n",
    "import numpy as np\n",
    "\n",
    "\n",
    "pos = makepoints('a')[2]#coordinates, (x, y) for 10 nodes\n",
    "connect = make_pairs((ra[0])) #random connections\n",
    "#print(connect)\n",
    "#creation of the graph\n",
    "graph = nx.Graph()\n",
    "#adding nodes/connections in the graph\n",
    "for node in range(len(pos)):\n",
    "    graph.add_node(node)\n",
    "graph.add_edges_from(connect)\n",
    "\n",
    "#plot of the nodes using the (x,y) pairs as coordinates\n",
    "nx.draw(graph, [(x,y) for x,y in pos], node_size=50)"
   ]
  },
  {
   "cell_type": "code",
   "execution_count": null,
   "metadata": {},
   "outputs": [],
   "source": []
  }
 ],
 "metadata": {
  "kernelspec": {
   "display_name": "Python 3",
   "language": "python",
   "name": "python3"
  },
  "language_info": {
   "codemirror_mode": {
    "name": "ipython",
    "version": 3
   },
   "file_extension": ".py",
   "mimetype": "text/x-python",
   "name": "python",
   "nbconvert_exporter": "python",
   "pygments_lexer": "ipython3",
   "version": "3.8.3"
  }
 },
 "nbformat": 4,
 "nbformat_minor": 4
}
