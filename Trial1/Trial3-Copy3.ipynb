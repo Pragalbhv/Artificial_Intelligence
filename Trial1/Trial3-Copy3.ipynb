{
 "cells": [
  {
   "cell_type": "code",
   "execution_count": 1,
   "metadata": {},
   "outputs": [
    {
     "name": "stdout",
     "output_type": "stream",
     "text": [
      "Pretty printing has been turned OFF\n"
     ]
    }
   ],
   "source": [
    "%pprint #use this to change print sye"
   ]
  },
  {
   "cell_type": "code",
   "execution_count": 2,
   "metadata": {},
   "outputs": [],
   "source": [
    "import random"
   ]
  },
  {
   "cell_type": "code",
   "execution_count": 3,
   "metadata": {},
   "outputs": [],
   "source": [
    "def return_type_n(file):\n",
    "    import csv\n",
    "    with open('reuc_100', newline='') as csvfile:\n",
    "        reader = csv.reader(csvfile, delimiter=' ') #, quotechar='|')\n",
    "        for i, row in enumerate(reader):\n",
    "            if i ==0:\n",
    "                Type=row[0]\n",
    "            elif i ==1:\n",
    "                n=int(row[0])\n",
    "            else:\n",
    "                break\n",
    "    return (Type,n)\n",
    "            "
   ]
  },
  {
   "cell_type": "code",
   "execution_count": 4,
   "metadata": {},
   "outputs": [],
   "source": [
    "def distmatrix(N):\n",
    "    import csv\n",
    "    DIST=[]\n",
    "    with open('reuc_100', newline='') as csvfile:\n",
    "        reader = csv.reader(csvfile, delimiter=' ') #, quotechar='|')\n",
    "        for i, row in enumerate(reader):\n",
    "            if i >= 2+N:\n",
    "                DIST.append(list(map(float, row)))\n",
    "        return (DIST)\n",
    "    return(999999999999999999)\n",
    "            "
   ]
  },
  {
   "cell_type": "code",
   "execution_count": 5,
   "metadata": {},
   "outputs": [],
   "source": [
    "def closest(D, n):\n",
    "    closest = []\n",
    "    for i in range(n):\n",
    "        dlist = [[D[i][j] ,j] for j in range(n) if j != i]#generates a list of neighbours sorted with distance from i to j\n",
    "        dlist.sort()\n",
    "        closest.append(dlist)\n",
    "    return closest"
   ]
  },
  {
   "cell_type": "code",
   "execution_count": 6,
   "metadata": {},
   "outputs": [],
   "source": [
    "def length(tour,D,N):\n",
    "    z = dist(tour[0][-1], tour[0][0],D)    # edge from last to first city of the tour\n",
    "    z+=sum(tour[1])      # add length of edge from city i-1 to i\n",
    "    return z\n"
   ]
  },
  {
   "cell_type": "code",
   "execution_count": 7,
   "metadata": {},
   "outputs": [],
   "source": [
    "def is_in(j,LIST):\n",
    "    for i in LIST:\n",
    "        if j==i:\n",
    "            return True\n",
    "    return False"
   ]
  },
  {
   "cell_type": "code",
   "execution_count": 8,
   "metadata": {},
   "outputs": [],
   "source": [
    "def return_nearest(i,A,unvisited):\n",
    "    j=0\n",
    "    #print(len(A))\n",
    "    while j < len(A):\n",
    "        c=A[i][j][1]\n",
    "        if is_in(c,unvisited):\n",
    "            return A[i][j]\n",
    "        else:\n",
    "            j+=1\n",
    "    return[999]\n",
    "    "
   ]
  },
  {
   "cell_type": "code",
   "execution_count": 9,
   "metadata": {},
   "outputs": [],
   "source": [
    "def create_tour(D,i,N):\n",
    "    unvisited=list(range(N))\n",
    "    A=closest(D,N)\n",
    "    length=[]\n",
    "    prev=i\n",
    "    Tour=[i]\n",
    "    unvisited.remove(i)\n",
    "    while unvisited!=[]:\n",
    "        temp=return_nearest(prev,A,unvisited)\n",
    "        next=temp[1]\n",
    "        length.append(temp[0])\n",
    "        Tour.append(next)\n",
    "        unvisited.remove(next)\n",
    "        prev=next\n",
    "    cost=sum(length)\n",
    "    cost=cost+D[next][i]\n",
    "    return (Tour,cost)"
   ]
  },
  {
   "cell_type": "code",
   "execution_count": 10,
   "metadata": {},
   "outputs": [],
   "source": [
    "def create_rand_tour(D,i,N):\n",
    "    unvisited=list(range(N))\n",
    "    length=[]\n",
    "    prev=i\n",
    "    Tour=[i]\n",
    "    unvisited.remove(i)\n",
    "    while unvisited!=[]:\n",
    "        temp=random.choice(unvisited)\n",
    "        next=temp\n",
    "        Tour.append(next)\n",
    "        unvisited.remove(next)\n",
    "        prev=next\n",
    "    rcost=cost(Tour,D)\n",
    "    return (Tour,rcost)\n",
    "    "
   ]
  },
  {
   "cell_type": "code",
   "execution_count": 11,
   "metadata": {},
   "outputs": [],
   "source": [
    "def cost(Tour,D):#use only for GA created Tours with no added distance sum\n",
    "    rcost=0\n",
    "    lenght=len(Tour)\n",
    "    for i in range(lenght-1):\n",
    "        rcost=rcost+D[Tour[i]][Tour[i+1]]\n",
    "        #print(rcost)\n",
    "    rcost=rcost+D[Tour[lenght-1]][Tour[0]]\n",
    "    return rcost"
   ]
  },
  {
   "cell_type": "code",
   "execution_count": 12,
   "metadata": {},
   "outputs": [],
   "source": [
    "def sortsol(l):\n",
    "    l.sort(key = lambda x: x[1])  \n",
    "    return l"
   ]
  },
  {
   "cell_type": "code",
   "execution_count": 13,
   "metadata": {},
   "outputs": [],
   "source": [
    "def fitness(sol):\n",
    "    sum=0\n",
    "    fitness_sum=0\n",
    "    fitness=[]\n",
    "    for i in range(len(sol)):\n",
    "        fitness_sum=fitness_sum+(1/sol[i][1])**2\n",
    "    for j in range(len(sol)):\n",
    "        a=((1/(sol[j][1])**2)/(fitness_sum))\n",
    "        fitness.append(a)\n",
    "    return fitness\n",
    "    "
   ]
  },
  {
   "cell_type": "code",
   "execution_count": 14,
   "metadata": {},
   "outputs": [],
   "source": [
    "def mk_parent(sol,Fitness,bestsize):\n",
    "    parents=[]\n",
    "    #for i in range(bestsize):\n",
    "        #parents.append(sol[i][0])\n",
    "    psum=0\n",
    "    i=0\n",
    "    for i in range(0, len(sol)): #- bestsize):\n",
    "        a=random.uniform(0,1)\n",
    "        psum=0\n",
    "        i=0\n",
    "        while True:\n",
    "            psum+=Fitness[i]\n",
    "            if psum>=a:\n",
    "                parents.append(sol[i][0])\n",
    "                break\n",
    "            i+=1\n",
    "    return parents\n"
   ]
  },
  {
   "cell_type": "code",
   "execution_count": 15,
   "metadata": {},
   "outputs": [],
   "source": [
    "def make_babies(parent1, parent2):\n",
    "    child = []\n",
    "    child_1 = []\n",
    "    half1_1=[]\n",
    "    half1_2=[]\n",
    "    child_2 = []\n",
    "    half2_1=[]\n",
    "    half2_2=[]\n",
    "    \n",
    "    splicepoint1 = int(random.random() * len(parent1))\n",
    "    splicepoint2 = int(random.random() * len(parent1))\n",
    "    \n",
    "    startsplice = min(splicepoint1, splicepoint2)\n",
    "    endsplice = max(splicepoint1, splicepoint2)\n",
    "\n",
    "    for i in range(startsplice, endsplice):\n",
    "        half1_1.append(parent1[i])\n",
    "        #print(parent2)\n",
    "        half2_1.append(parent2[i])\n",
    "        \n",
    "    half1_2 = [j for j in parent2 if j not in half1_1]\n",
    "    half2_2 = [j for j in parent1 if j not in half2_1]\n",
    "\n",
    "    child_1 = half1_1+half1_2\n",
    "    child_2 = half2_1+half2_2\n",
    "    return [child_1,child_2]"
   ]
  },
  {
   "cell_type": "code",
   "execution_count": 16,
   "metadata": {},
   "outputs": [],
   "source": [
    "def babies(parents, bestsize):\n",
    "    children = []\n",
    "    length = len(parents) - bestsize\n",
    "    parentset = random.sample(parents, len(parents))\n",
    "\n",
    "    #for i in range(0,bestsize):\n",
    "        #children.append(parents[i])\n",
    "    \n",
    "    for i in range(0, length):\n",
    "        child = make_babies(parentset[i], parentset[len(parents)-i-1])\n",
    "        children.append(child[0])\n",
    "        children.append(child[1])\n",
    "    return children"
   ]
  },
  {
   "cell_type": "code",
   "execution_count": 17,
   "metadata": {},
   "outputs": [],
   "source": [
    "def mutate(route,rate):\n",
    "    i=int(random.random()*len(route))\n",
    "    j=int(random.random()*len(route))\n",
    "    input=route[:]\n",
    "    if j>i:\n",
    "        route=input[:i+1]+input[j-1:i:-1] + input[j:]\n",
    "    elif i>j:\n",
    "        route=input[:j+1]+input[i-1:j:-1] + input[i:]\n",
    "            \n",
    "    return route"
   ]
  },
  {
   "cell_type": "code",
   "execution_count": 18,
   "metadata": {},
   "outputs": [],
   "source": [
    "def make_sol(tempsol):\n",
    "    A=[]\n",
    "    costtemp=0\n",
    "    for i in range(len(tempsol)):\n",
    "        costtemp=cost(tempsol[i],D)\n",
    "        A.append((tempsol[i],costtemp))\n",
    "    return A"
   ]
  },
  {
   "cell_type": "code",
   "execution_count": 19,
   "metadata": {},
   "outputs": [],
   "source": [
    "def mutate_children(children, rate):\n",
    "    mutated=[]\n",
    "    for i in range(len(children)):\n",
    "        mutatedchild=mutate(children[i],rate)\n",
    "        mutated.append(mutatedchild)\n",
    "    return mutated\n"
   ]
  },
  {
   "cell_type": "code",
   "execution_count": 20,
   "metadata": {},
   "outputs": [],
   "source": [
    "def edge_exchange(route,D):\n",
    "    best = route\n",
    "    improved = True\n",
    "    while improved:\n",
    "        improved = False\n",
    "        for a in range(1, len(route) - 2):\n",
    "            for b in range(a + 1, len(route)):\n",
    "                if b - a == 1: continue  # changes nothing, skip then\n",
    "                newroute = route[:]\n",
    "                newroute[a:b] = route[b - 1:a - 1:-1] #swap routes\n",
    "                if cost(newroute,D) < cost(best,D):\n",
    "                    best = newroute\n",
    "                    improved = True\n",
    "                    route = best\n",
    "    return best"
   ]
  },
  {
   "cell_type": "code",
   "execution_count": 21,
   "metadata": {},
   "outputs": [],
   "source": [
    "def genetic_algorithmfinal(D,N,genrations,rate,bestsize=2):\n",
    "    import random\n",
    "\n",
    "    sol=[]\n",
    "    solution=[]\n",
    "    performance=[]\n",
    "    for i in range(N):\n",
    "        B=create_tour(D,i,N)\n",
    "        #T=edge_exchange(D,B)\n",
    "        #sol.append((T,cost(T,D)))\n",
    "        sol.append(B)\n",
    "    sol=sortsol(sol)\n",
    "    solution=sol[:]\n",
    "    performance.append((sol[0][1],0))\n",
    "    \n",
    "        \n",
    "    for i in range(genrations):\n",
    "        selected=solution[0:25]\n",
    "        R=fitness(selected)\n",
    "        parents=mk_parent(selected,fitness(selected),bestsize)\n",
    "        children=babies(parents,bestsize)\n",
    "        solset=mutate_children(children,rate)\n",
    "        solved=[]\n",
    "        for k in range(len(children)):\n",
    "            solved.append(edge_exchange(solset[k],D))\n",
    "        solution=make_sol(solved)\n",
    "        for j in range(0,bestsize):\n",
    "            solution.append(selected[j])\n",
    "        solution=sortsol(solution)\n",
    "        #print(solution)\n",
    "        best=solution[0]\n",
    "        performance.append((best[1],i))\n",
    "        i+=1\n",
    "        print((best[1],i),'\\n')\n",
    "    return (best,performance)\n",
    "        \n",
    "        "
   ]
  },
  {
   "cell_type": "code",
   "execution_count": 22,
   "metadata": {},
   "outputs": [],
   "source": [
    "def genetic_algorithmprefinal(D,N,genrations,rate,bestsize=2):\n",
    "    import random\n",
    "\n",
    "    sol=[]\n",
    "    solution=[]\n",
    "    performance=[]\n",
    "    for i in range(N):\n",
    "        B=create_tour(D,i,N)\n",
    "        #T=edge_exchange(D,B)\n",
    "        #sol.append((T,cost(T,D)))\n",
    "        sol.append(B)\n",
    "    sol=sortsol(sol)\n",
    "    solution=sol[:]\n",
    "    best=sol[0][0]\n",
    "    bestcost=sol[0][1]\n",
    "    performance.append((bestcost,0))\n",
    "    \n",
    "        \n",
    "    for i in range(genrations):\n",
    "        selected=solution[0:15]\n",
    "        R=fitness(selected)\n",
    "        parents=mk_parent(selected,fitness(selected),bestsize)\n",
    "        children=babies(parents,bestsize)\n",
    "        solset=mutate_children(children,rate)\n",
    "        #solved=[]\n",
    "        #for k in range(len(children)):\n",
    "            #solved.append(edge_exchange(solset[k],D))\n",
    "        #solution=make_sol(solved)\n",
    "        solution=make_sol(solset)\n",
    "        for j in range(0,bestsize):\n",
    "            solution.append(selected[j])\n",
    "        solution=sortsol(solution)\n",
    "        #print(solution)\n",
    "        print(solution[0][1])\n",
    "        newbest=edge_exchange(solution[0][0],D)\n",
    "        newbestcost=cost(newbest,D)\n",
    "        if newbestcost<bestcost:\n",
    "            best=newbest\n",
    "            bestcost=newbestcost\n",
    "        #solution[0]=(best2,cost(best2,D))\n",
    "        performance.append((best[1],i))\n",
    "        i+=1\n",
    "        print((bestcost,i),'\\n')\n",
    "    return ([best,performance])\n",
    "        \n",
    "        "
   ]
  },
  {
   "cell_type": "code",
   "execution_count": null,
   "metadata": {},
   "outputs": [
    {
     "name": "stdout",
     "output_type": "stream",
     "text": [
      "(1554.150858643251, 1) \n",
      "\n",
      "(1554.150858643251, 2) \n",
      "\n",
      "(1554.150858643251, 3) \n",
      "\n",
      "(1554.150858643251, 4) \n",
      "\n",
      "(1554.150858643251, 5) \n",
      "\n",
      "(1554.150858643251, 6) \n",
      "\n",
      "(1554.150858643251, 7) \n",
      "\n",
      "(1554.150858643251, 8) \n",
      "\n"
     ]
    }
   ],
   "source": [
    "import numpy as np\n",
    "N=return_type_n(1)[1]\n",
    "D=distmatrix(N)\n",
    "result=genetic_algorithmfinal(D,N,13,0.04)"
   ]
  },
  {
   "cell_type": "code",
   "execution_count": null,
   "metadata": {},
   "outputs": [],
   "source": [
    "import numpy as np\n",
    "N=return_type_n(1)[1]\n",
    "D=distmatrix(N)\n",
    "result=genetic_algorithmprefinal(D,N,1000,0.04)"
   ]
  },
  {
   "cell_type": "code",
   "execution_count": null,
   "metadata": {},
   "outputs": [],
   "source": [
    "import numpy as np\n",
    "N=return_type_n(1)[1]\n",
    "D=distmatrix(N)\n",
    "result=genetic_algorithmprefinal(D,N,1000,0.04)"
   ]
  },
  {
   "cell_type": "code",
   "execution_count": null,
   "metadata": {},
   "outputs": [],
   "source": [
    "\n",
    "a=[1,2,4,5,67,89,9]\n",
    "edge_exchange(a,D)"
   ]
  },
  {
   "cell_type": "code",
   "execution_count": null,
   "metadata": {},
   "outputs": [],
   "source": [
    "b"
   ]
  },
  {
   "cell_type": "code",
   "execution_count": null,
   "metadata": {},
   "outputs": [],
   "source": [
    "import matplotlib.pyplot as plt\n",
    ">>> from math import log\n",
    ">>> testList2 = [(elem1, elem2) for elem2, elem1 in r[1]]\n",
    ">>> zip(*testList2)\n",
    ">>> plt.scatter(*zip(*testList2))\n",
    ">>> plt.show()"
   ]
  },
  {
   "cell_type": "code",
   "execution_count": null,
   "metadata": {},
   "outputs": [],
   "source": [
    "import numpy as np\n",
    "N=return_type_n(1)[1]\n",
    "D=distmatrix(N)\n",
    "result=genetic_algorithmfinal(D,N,1000,0.0)"
   ]
  },
  {
   "cell_type": "code",
   "execution_count": null,
   "metadata": {},
   "outputs": [],
   "source": [
    "import matplotlib.pyplot as plt\n",
    ">>> from math import log\n",
    ">>> testList2 = [(elem1, elem2) for elem2, elem1 in r0[1]]\n",
    ">>> zip(*testList2)\n",
    ">>> plt.scatter(*zip(*testList2))\n",
    ">>> plt.show()"
   ]
  },
  {
   "cell_type": "code",
   "execution_count": null,
   "metadata": {},
   "outputs": [],
   "source": [
    "r[1]"
   ]
  },
  {
   "cell_type": "code",
   "execution_count": null,
   "metadata": {},
   "outputs": [],
   "source": [
    "result[0]"
   ]
  },
  {
   "cell_type": "code",
   "execution_count": null,
   "metadata": {},
   "outputs": [],
   "source": [
    "ra[9][1]"
   ]
  },
  {
   "cell_type": "code",
   "execution_count": null,
   "metadata": {},
   "outputs": [],
   "source": [
    "ax = plt.gca()\n",
    "\n",
    "\n",
    "ax.scatter([1, 2, 3], [3, 2, 1], color=\"b\",label='00')\n",
    "\n",
    "ax.scatter([1.5, 2.5, 3.5], [1, 2, 3], color=\"r\",label='aa')\n",
    "\n",
    "\n"
   ]
  },
  {
   "cell_type": "code",
   "execution_count": null,
   "metadata": {},
   "outputs": [],
   "source": [
    "edge_exchange(list(range(0,100)),D)"
   ]
  },
  {
   "cell_type": "code",
   "execution_count": null,
   "metadata": {},
   "outputs": [],
   "source": [
    "def makepoints(a):\n",
    "    import csv\n",
    "    point=[]\n",
    "    pointx=[]\n",
    "    pointy=[]\n",
    "    pointlabel=[]\n",
    "    with open('reuc_100', newline='') as csvfile:\n",
    "        reader = csv.reader(csvfile, delimiter=' ') #, quotechar='|')\n",
    "        for i, row in enumerate(reader):\n",
    "            if i>1 and i<N+2:\n",
    "                point.append((float(row[0]),float(row[1])))\n",
    "                pointx.append(float(row[0]))\n",
    "                pointy.append(float(row[1]))\n",
    "                pointlabel.append(str(i))\n",
    "    return(pointx,pointy,point,pointlabel)"
   ]
  },
  {
   "cell_type": "code",
   "execution_count": null,
   "metadata": {},
   "outputs": [],
   "source": [
    "def make_pairs(tour):\n",
    "    opa=[]\n",
    "    for i in range(len(tour[0])-1):\n",
    "        opa.append((tour[0][i],tour[0][i+1]))\n",
    "    opa.append((tour[0][i+1],tour[0][0]))\n",
    "    return opa"
   ]
  },
  {
   "cell_type": "code",
   "execution_count": null,
   "metadata": {},
   "outputs": [],
   "source": [
    "import networkx as nx\n",
    "import numpy as np\n",
    "\n",
    "\n",
    "pos = makepoints('a')[2]#coordinates, (x, y) for 10 nodes\n",
    "connect = make_pairs((result[0])) #random connections\n",
    "#print(connect)\n",
    "#creation of the graph\n",
    "graph = nx.Graph()\n",
    "#adding nodes/connections in the graph\n",
    "for node in range(len(pos)):\n",
    "    graph.add_node(node)\n",
    "graph.add_edges_from(connect)\n",
    "\n",
    "#plot of the nodes using the (x,y) pairs as coordinates\n",
    "nx.draw(graph, [(x,y) for x,y in pos], node_size=50)"
   ]
  },
  {
   "cell_type": "code",
   "execution_count": null,
   "metadata": {},
   "outputs": [],
   "source": [
    "cost()"
   ]
  },
  {
   "cell_type": "code",
   "execution_count": null,
   "metadata": {},
   "outputs": [],
   "source": []
  },
  {
   "cell_type": "code",
   "execution_count": null,
   "metadata": {},
   "outputs": [],
   "source": []
  },
  {
   "cell_type": "code",
   "execution_count": null,
   "metadata": {},
   "outputs": [],
   "source": [
    "a=two_opt(D,r0[0][0])"
   ]
  },
  {
   "cell_type": "code",
   "execution_count": null,
   "metadata": {},
   "outputs": [],
   "source": [
    "c=cost(a,D)"
   ]
  },
  {
   "cell_type": "code",
   "execution_count": null,
   "metadata": {},
   "outputs": [],
   "source": [
    "b=(a,c)"
   ]
  },
  {
   "cell_type": "code",
   "execution_count": null,
   "metadata": {},
   "outputs": [],
   "source": [
    "b"
   ]
  },
  {
   "cell_type": "code",
   "execution_count": null,
   "metadata": {},
   "outputs": [],
   "source": [
    "cost([89,95,26,70,93,18,72,15,69,64,2,51,92,74,85,29,48,45,25,49,59,32,37,20,11,47,9,50,27,5,97,22,62,17,30,38,58,44,88,57,54,1,31,63,90,75,67,19,78,13,33,86,36,91,46,41,68,71,53,35,52,39,84,8,6,4,10,79,61,34,76,98,23,12,28,65,43,82,73,42,14,55,77,66,40,94,83,24,80,21,0,60,99,16,81,3,96,87,56,7],D)"
   ]
  },
  {
   "cell_type": "code",
   "execution_count": null,
   "metadata": {},
   "outputs": [],
   "source": [
    "import networkx as nx\n",
    "import numpy as np\n",
    "\n",
    "\n",
    "pos = makepoints('a')[2]#coordinates, (x, y) for 10 nodes\n",
    "connect = make_pairs(([89,95,26,70,93,18,72,15,69,64,2,51,92,74,85,29,48,45,25,49,59,32,37,20,11,47,9,50,27,5,97,22,62,17,30,38,58,44,88,57,54,1,31,63,90,75,67,19,78,13,33,86,36,91,46,41,68,71,53,35,52,39,84,8,6,4,10,79,61,34,76,98,23,12,28,65,43,82,73,42,14,55,77,66,40,94,83,24,80,21,0,60,99,16,81,3,96,87,56,7],0)) #random connections\n",
    "#print(connect)\n",
    "#creation of the graph\n",
    "graph = nx.Graph()\n",
    "#adding nodes/connections in the graph\n",
    "for node in range(len(pos)):\n",
    "    graph.add_node(node)\n",
    "graph.add_edges_from(connect)\n",
    "\n",
    "#plot of the nodes using the (x,y) pairs as coordinates\n",
    "nx.draw(graph, [(x,y) for x,y in pos], node_size=50)"
   ]
  },
  {
   "cell_type": "code",
   "execution_count": null,
   "metadata": {},
   "outputs": [],
   "source": [
    "import networkx as nx\n",
    "import numpy as np\n",
    "\n",
    "\n",
    "pos = makepoints('a')[2]#coordinates, (x, y) for 10 nodes\n",
    "connect = make_pairs((sol[0])) #random connections\n",
    "#print(connect)\n",
    "#creation of the graph\n",
    "graph = nx.Graph()\n",
    "#adding nodes/connections in the graph\n",
    "for node in range(len(pos)):\n",
    "    graph.add_node(node)\n",
    "graph.add_edges_from(connect)\n",
    "\n",
    "#plot of the nodes using the (x,y) pairs as coordinates\n",
    "nx.draw(graph, [(x,y) for x,y in pos], node_size=50)"
   ]
  },
  {
   "cell_type": "code",
   "execution_count": null,
   "metadata": {},
   "outputs": [],
   "source": [
    "A=genetic_algorithmfinal(D,N,1,0.1)"
   ]
  },
  {
   "cell_type": "code",
   "execution_count": null,
   "metadata": {},
   "outputs": [],
   "source": [
    "import matplotlib.pyplot as plt\n",
    ">>> from math import log\n",
    ">>> testList2 = [(elem1, elem2) for elem2, elem1 in A[1]]\n",
    ">>> zip(*testList2)\n",
    ">>> plt.scatter(*zip(*testList2))\n",
    ">>> plt.show()"
   ]
  },
  {
   "cell_type": "code",
   "execution_count": null,
   "metadata": {},
   "outputs": [],
   "source": [
    "import networkx as nx\n",
    "import numpy as np\n",
    "\n",
    "\n",
    "pos = makepoints('a')[2]#coordinates, (x, y) for 10 nodes\n",
    "connect = make_pairs(([0, 21, 80, 24, 83, 94, 40, 66, 14, 77, 55, 12, 42, 60, 73, 82, 43, 65, 28, 23, 98, 76, 34, 61, 79, 10, 4, 6, 8, 84, 39, 52, 35, 53, 86, 33, 36, 91, 46, 78, 13, 19, 22, 97, 5, 27, 50, 9, 47, 59, 49, 17, 62, 30, 75, 90, 67, 41, 71, 68, 1, 54, 31, 63, 58, 38, 44, 88, 57, 45, 25, 48, 29, 32, 11, 20, 37, 85, 74, 92, 51, 2, 64, 69, 15, 72, 18, 93, 70, 26, 95, 89, 7, 56, 87, 96, 3, 81, 16, 99],0)) #random connections\n",
    "#print(connect)\n",
    "#creation of the graph\n",
    "graph = nx.Graph()\n",
    "#adding nodes/connections in the graph\n",
    "for node in range(len(pos)):\n",
    "    graph.add_node(node)\n",
    "graph.add_edges_from(connect)\n",
    "\n",
    "#plot of the nodes using the (x,y) pairs as coordinates\n",
    "nx.draw(graph, [(x,y) for x,y in pos], node_size=50)"
   ]
  },
  {
   "cell_type": "code",
   "execution_count": null,
   "metadata": {},
   "outputs": [],
   "source": []
  }
 ],
 "metadata": {
  "kernelspec": {
   "display_name": "Python 3",
   "language": "python",
   "name": "python3"
  },
  "language_info": {
   "codemirror_mode": {
    "name": "ipython",
    "version": 3
   },
   "file_extension": ".py",
   "mimetype": "text/x-python",
   "name": "python",
   "nbconvert_exporter": "python",
   "pygments_lexer": "ipython3",
   "version": "3.8.3"
  }
 },
 "nbformat": 4,
 "nbformat_minor": 4
}
