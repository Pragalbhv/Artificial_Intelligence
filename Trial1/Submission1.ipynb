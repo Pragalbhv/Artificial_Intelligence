{
 "cells": [
  {
   "cell_type": "code",
   "execution_count": 57,
   "metadata": {},
   "outputs": [],
   "source": [
    "import random\n"
   ]
  },
  {
   "cell_type": "code",
   "execution_count": 68,
   "metadata": {},
   "outputs": [
    {
     "name": "stdout",
     "output_type": "stream",
     "text": [
      "1\n",
      "a 0\n",
      "2\n",
      "b 1\n",
      "3\n",
      "get ready\n",
      "4\n",
      "get ready\n",
      "189.01530464 148.863776311 189.951697757 248.581933355 107.500740461 165.581595255 119.128648623 226.208153933 226.073184997 104.079221354 24.2760452425 73.5139339819 167.278378962 185.075317215 182.877259771 183.945626531 35.6335274995 65.9100534083 218.5717332 135.87074598 272.096811145 227.356310512 136.015473121 204.962971608 241.925123237 174.581880136 223.685628591 95.2262944829 72.5117853495 115.596275585 240.831384287 103.525451924 22.8377403883 182.855656791 138.993039916 144.301118832 123.96951135 68.0172829372 165.175368093 202.67002382 201.545679994 179.975259225 107.337134289 237.539482099 67.5465116364 183.047427113 216.981973004 0.0 240.663363419 190.307573559 265.301522049 144.728954806 102.253627632 173.682899499 184.82595263 33.3508038701 112.749460576 201.285286402 71.573186866 186.118533891 107.431604838 98.1779077596 151.678687925 212.218712362 110.104044018 228.164238912 188.82663783 146.691750358 227.09785067 147.870650327 135.099447894 36.1287900193 217.262674801 156.051354115 123.454627743 176.080765744 94.8651389925 194.004583877 203.656874608 216.386496167 71.5884917212 219.732119699 194.585329088 204.768334165 88.655035423 78.0226373931 176.438724909 188.633438427 98.5653157564 224.634245585 110.774792751 60.5594608756 93.6192394481 247.359785026 45.3359760478 220.346332523 107.22659484 190.602669611 116.827137843 193.209648597 164.83587223 264.647240741 158.183926842\n",
      "c 4\n",
      "189.01530464 148.863776311 189.951697757 248.581933355 107.500740461 165.581595255 119.128648623 226.208153933 226.073184997 104.079221354 24.2760452425 73.5139339819 167.278378962 185.075317215 182.877259771 183.945626531 35.6335274995 65.9100534083 218.5717332 135.87074598 272.096811145 227.356310512 136.015473121 204.962971608 241.925123237 174.581880136 223.685628591 95.2262944829 72.5117853495 115.596275585 240.831384287 103.525451924 22.8377403883 182.855656791 138.993039916 144.301118832 123.96951135 68.0172829372 165.175368093 202.67002382 201.545679994 179.975259225 107.337134289 237.539482099 67.5465116364 183.047427113 216.981973004 0.0 240.663363419 190.307573559 265.301522049 144.728954806 102.253627632 173.682899499 184.82595263 33.3508038701 112.749460576 201.285286402 71.573186866 186.118533891 107.431604838 98.1779077596 151.678687925 212.218712362 110.104044018 228.164238912 188.82663783 146.691750358 227.09785067 147.870650327 135.099447894 36.1287900193 217.262674801 156.051354115 123.454627743 176.080765744 94.8651389925 194.004583877 203.656874608 216.386496167 71.5884917212 219.732119699 194.585329088 204.768334165 88.655035423 78.0226373931 176.438724909 188.633438427 98.5653157564 224.634245585 110.774792751 60.5594608756 93.6192394481 247.359785026 45.3359760478 220.346332523 107.22659484 190.602669611 116.827137843 193.209648597 164.83587223 264.647240741 158.183926842\n",
      "c 5\n"
     ]
    }
   ],
   "source": [
    "# import sys\n",
    "D=[]\n",
    "count=0\n",
    "while True:\n",
    "    if count ==0:\n",
    "        Type=input()#sys.stdin.readline()\n",
    "        print('a',count)\n",
    "    elif count ==1:\n",
    "        N=int(input())#sys.stdin.readline())\n",
    "        print('b',count)\n",
    "    elif count<=N+1:\n",
    "        input()\n",
    "        print('get ready')\n",
    "    elif 1+N<count<=2*N+1:\n",
    "        D.append(list(map(float,input().split()))) #sys.stdin.readline())))\n",
    "        print('c',count)\n",
    "    elif count>=2*N+2:\n",
    "        break\n",
    "    count=count+1\n",
    "    "
   ]
  },
  {
   "cell_type": "code",
   "execution_count": 69,
   "metadata": {},
   "outputs": [
    {
     "data": {
      "text/plain": [
       "[[189.01530464, 148.863776311, 189.951697757, 248.581933355, 107.500740461, 165.581595255, 119.128648623, 226.208153933, 226.073184997, 104.079221354, 24.2760452425, 73.5139339819, 167.278378962, 185.075317215, 182.877259771, 183.945626531, 35.6335274995, 65.9100534083, 218.5717332, 135.87074598, 272.096811145, 227.356310512, 136.015473121, 204.962971608, 241.925123237, 174.581880136, 223.685628591, 95.2262944829, 72.5117853495, 115.596275585, 240.831384287, 103.525451924, 22.8377403883, 182.855656791, 138.993039916, 144.301118832, 123.96951135, 68.0172829372, 165.175368093, 202.67002382, 201.545679994, 179.975259225, 107.337134289, 237.539482099, 67.5465116364, 183.047427113, 216.981973004, 0.0, 240.663363419, 190.307573559, 265.301522049, 144.728954806, 102.253627632, 173.682899499, 184.82595263, 33.3508038701, 112.749460576, 201.285286402, 71.573186866, 186.118533891, 107.431604838, 98.1779077596, 151.678687925, 212.218712362, 110.104044018, 228.164238912, 188.82663783, 146.691750358, 227.09785067, 147.870650327, 135.099447894, 36.1287900193, 217.262674801, 156.051354115, 123.454627743, 176.080765744, 94.8651389925, 194.004583877, 203.656874608, 216.386496167, 71.5884917212, 219.732119699, 194.585329088, 204.768334165, 88.655035423, 78.0226373931, 176.438724909, 188.633438427, 98.5653157564, 224.634245585, 110.774792751, 60.5594608756, 93.6192394481, 247.359785026, 45.3359760478, 220.346332523, 107.22659484, 190.602669611, 116.827137843, 193.209648597, 164.83587223, 264.647240741, 158.183926842], [189.01530464, 148.863776311, 189.951697757, 248.581933355, 107.500740461, 165.581595255, 119.128648623, 226.208153933, 226.073184997, 104.079221354, 24.2760452425, 73.5139339819, 167.278378962, 185.075317215, 182.877259771, 183.945626531, 35.6335274995, 65.9100534083, 218.5717332, 135.87074598, 272.096811145, 227.356310512, 136.015473121, 204.962971608, 241.925123237, 174.581880136, 223.685628591, 95.2262944829, 72.5117853495, 115.596275585, 240.831384287, 103.525451924, 22.8377403883, 182.855656791, 138.993039916, 144.301118832, 123.96951135, 68.0172829372, 165.175368093, 202.67002382, 201.545679994, 179.975259225, 107.337134289, 237.539482099, 67.5465116364, 183.047427113, 216.981973004, 0.0, 240.663363419, 190.307573559, 265.301522049, 144.728954806, 102.253627632, 173.682899499, 184.82595263, 33.3508038701, 112.749460576, 201.285286402, 71.573186866, 186.118533891, 107.431604838, 98.1779077596, 151.678687925, 212.218712362, 110.104044018, 228.164238912, 188.82663783, 146.691750358, 227.09785067, 147.870650327, 135.099447894, 36.1287900193, 217.262674801, 156.051354115, 123.454627743, 176.080765744, 94.8651389925, 194.004583877, 203.656874608, 216.386496167, 71.5884917212, 219.732119699, 194.585329088, 204.768334165, 88.655035423, 78.0226373931, 176.438724909, 188.633438427, 98.5653157564, 224.634245585, 110.774792751, 60.5594608756, 93.6192394481, 247.359785026, 45.3359760478, 220.346332523, 107.22659484, 190.602669611, 116.827137843, 193.209648597, 164.83587223, 264.647240741, 158.183926842]]"
      ]
     },
     "execution_count": 69,
     "metadata": {},
     "output_type": "execute_result"
    }
   ],
   "source": [
    "D"
   ]
  },
  {
   "cell_type": "code",
   "execution_count": 7,
   "metadata": {},
   "outputs": [],
   "source": [
    "def closest(D, n):\n",
    "    closest = []\n",
    "    for i in range(n):\n",
    "        dlist = [[D[i][j] ,j] for j in range(n) if j != i]#generates a list of neighbours sorted with distance from i to j\n",
    "        dlist.sort()\n",
    "        closest.append(dlist)\n",
    "    return closest"
   ]
  },
  {
   "cell_type": "code",
   "execution_count": 8,
   "metadata": {},
   "outputs": [],
   "source": [
    "def length(tour,D,N):\n",
    "    z = dist(tour[0][-1], tour[0][0],D)    # edge from last to first city of the tour\n",
    "    z+=sum(tour[1])      # add length of edge from city i-1 to i\n",
    "    return z\n"
   ]
  },
  {
   "cell_type": "code",
   "execution_count": 9,
   "metadata": {},
   "outputs": [],
   "source": [
    "def is_in(j,LIST):\n",
    "    for i in LIST:\n",
    "        if j==i:\n",
    "            return True\n",
    "    return False"
   ]
  },
  {
   "cell_type": "code",
   "execution_count": 10,
   "metadata": {},
   "outputs": [],
   "source": [
    "def return_nearest(i,A,unvisited):\n",
    "    j=0\n",
    "    #print(len(A))\n",
    "    while j < len(A):\n",
    "        c=A[i][j][1]\n",
    "        if is_in(c,unvisited):\n",
    "            return A[i][j]\n",
    "        else:\n",
    "            j+=1\n",
    "    return[999]\n",
    "    "
   ]
  },
  {
   "cell_type": "code",
   "execution_count": 11,
   "metadata": {},
   "outputs": [],
   "source": [
    "def create_tour(D,i,N):\n",
    "    unvisited=list(range(N))\n",
    "    A=closest(D,N)\n",
    "    length=[]\n",
    "    prev=i\n",
    "    Tour=[i]\n",
    "    unvisited.remove(i)\n",
    "    while unvisited!=[]:\n",
    "        temp=return_nearest(prev,A,unvisited)\n",
    "        next=temp[1]\n",
    "        length.append(temp[0])\n",
    "        Tour.append(next)\n",
    "        unvisited.remove(next)\n",
    "        prev=next\n",
    "    cost=sum(length)\n",
    "    cost=cost+D[next][i]\n",
    "    return (Tour,cost)"
   ]
  },
  {
   "cell_type": "code",
   "execution_count": 12,
   "metadata": {},
   "outputs": [],
   "source": [
    "def cost(Tour,D):#use only for GA created Tours with no added distance sum\n",
    "    rcost=0\n",
    "    lenght=len(Tour)\n",
    "    for i in range(lenght-1):\n",
    "        rcost=rcost+D[Tour[i]][Tour[i+1]]\n",
    "        #print(rcost)\n",
    "    rcost=rcost+D[Tour[lenght-1]][Tour[0]]\n",
    "    return rcost"
   ]
  },
  {
   "cell_type": "code",
   "execution_count": 13,
   "metadata": {},
   "outputs": [],
   "source": [
    "def sortsol(l):\n",
    "    l.sort(key = lambda x: x[1])  \n",
    "    return l"
   ]
  },
  {
   "cell_type": "code",
   "execution_count": 14,
   "metadata": {},
   "outputs": [],
   "source": [
    "def fitness(sol):\n",
    "    sum=0\n",
    "    fitness_sum=0\n",
    "    fitness=[]\n",
    "    for i in range(len(sol)):\n",
    "        fitness_sum=fitness_sum+(1/sol[i][1])**2\n",
    "    for j in range(len(sol)):\n",
    "        a=((1/(sol[j][1])**2)/(fitness_sum))\n",
    "        fitness.append(a)\n",
    "    return fitness\n",
    "    "
   ]
  },
  {
   "cell_type": "code",
   "execution_count": 15,
   "metadata": {},
   "outputs": [],
   "source": [
    "def mk_parent(sol,Fitness,bestsize):\n",
    "    parents=[]\n",
    "    #for i in range(bestsize):\n",
    "        #parents.append(sol[i][0])\n",
    "    psum=0\n",
    "    i=0\n",
    "    for i in range(0, len(sol)): #- bestsize):\n",
    "        a=random.uniform(0,1)\n",
    "        psum=0\n",
    "        i=0\n",
    "        while True:\n",
    "            psum+=Fitness[i]\n",
    "            if psum>=a:\n",
    "                parents.append(sol[i][0])\n",
    "                break\n",
    "            i+=1\n",
    "    return parents\n"
   ]
  },
  {
   "cell_type": "code",
   "execution_count": 17,
   "metadata": {},
   "outputs": [],
   "source": [
    "def make_babies(parent1, parent2):\n",
    "    child = []\n",
    "    child_1 = []\n",
    "    half1_1=[]\n",
    "    half1_2=[]\n",
    "    child_2 = []\n",
    "    half2_1=[]\n",
    "    half2_2=[]\n",
    "    \n",
    "    splicepoint1 = int(random.random() * len(parent1))\n",
    "    splicepoint2 = int(random.random() * len(parent1))\n",
    "    \n",
    "    startsplice = min(splicepoint1, splicepoint2)\n",
    "    endsplice = max(splicepoint1, splicepoint2)\n",
    "\n",
    "    for i in range(startsplice, endsplice):\n",
    "        half1_1.append(parent1[i])\n",
    "        #print(parent2)\n",
    "        half2_1.append(parent2[i])\n",
    "        \n",
    "    half1_2 = [j for j in parent2 if j not in half1_1]\n",
    "    #half2_2 = [j for j in parent1 if j not in half2_1]\n",
    "\n",
    "    child_1 = half1_1+half1_2\n",
    "    #child_2 = half2_1+half2_2\n",
    "    return child_1#,child_2]"
   ]
  },
  {
   "cell_type": "code",
   "execution_count": 19,
   "metadata": {},
   "outputs": [],
   "source": [
    "def babies(parents, bestsize):\n",
    "    children = []\n",
    "    length = len(parents) - bestsize\n",
    "    parentset = random.sample(parents, len(parents))\n",
    "\n",
    "    #for i in range(0,bestsize):\n",
    "        #children.append(parents[i])\n",
    "    \n",
    "    for i in range(0, length):\n",
    "        child = make_babies(parentset[i], parentset[len(parents)-i-1])\n",
    "        children.append(child)#[0])\n",
    "        #children.append(child[1])\n",
    "    return children"
   ]
  },
  {
   "cell_type": "code",
   "execution_count": 20,
   "metadata": {},
   "outputs": [],
   "source": [
    "def mutate(route,rate):\n",
    "    i=int(random.random()*len(route))\n",
    "    j=int(random.random()*len(route))\n",
    "    input=route[:]\n",
    "    if j>i:\n",
    "        route=input[:i+1]+input[j-1:i:-1] + input[j:]\n",
    "    elif i>j:\n",
    "        route=input[:j+1]+input[i-1:j:-1] + input[i:]\n",
    "            \n",
    "    return route"
   ]
  },
  {
   "cell_type": "code",
   "execution_count": 21,
   "metadata": {},
   "outputs": [],
   "source": [
    "def make_sol(tempsol):\n",
    "    A=[]\n",
    "    costtemp=0\n",
    "    for i in range(len(tempsol)):\n",
    "        costtemp=cost(tempsol[i],D)\n",
    "        A.append((tempsol[i],costtemp))\n",
    "    return A"
   ]
  },
  {
   "cell_type": "code",
   "execution_count": 22,
   "metadata": {},
   "outputs": [],
   "source": [
    "def mutate_children(children, rate):\n",
    "    mutated=[]\n",
    "    for i in range(len(children)):\n",
    "        mutatedchild=mutate(children[i],rate)\n",
    "        mutated.append(mutatedchild)\n",
    "    return mutated\n"
   ]
  },
  {
   "cell_type": "code",
   "execution_count": 23,
   "metadata": {},
   "outputs": [],
   "source": [
    "def edge_exchange(route,D):\n",
    "    best = route\n",
    "    improved = True\n",
    "    while improved:\n",
    "        improved = False\n",
    "        for a in range(1, len(route) - 2):\n",
    "            for b in range(a + 1, len(route)):\n",
    "                if b - a == 1: continue  # changes nothing, skip then\n",
    "                newroute = route[:]\n",
    "                newroute[a:b] = route[b - 1:a - 1:-1] #this swap works for non evuclidiean as well\n",
    "                if cost(newroute,D) < cost(best,D):\n",
    "                    best = newroute\n",
    "                    improved = True\n",
    "                    route = best\n",
    "    return best"
   ]
  },
  {
   "cell_type": "code",
   "execution_count": 72,
   "metadata": {},
   "outputs": [],
   "source": [
    "def genetic_algorithmfinal(D,N,genrations,rate,bestsize=2):\n",
    "    import random\n",
    "\n",
    "    sol=[]\n",
    "    solution=[]\n",
    "    #performance=[]\n",
    "    for i in range(N):\n",
    "        B=create_tour(D,i,N)\n",
    "        #T=edge_exchange(D,B)\n",
    "        #sol.append((T,cost(T,D)))\n",
    "        sol.append(B)\n",
    "    sol=sortsol(sol)\n",
    "    solution=sol[:]\n",
    "    prevbest=sol[0][0]\n",
    "    print(*prevbest)\n",
    "    #performance.append((sol[0][1],0))\n",
    "    \n",
    "        \n",
    "    for i in range(genrations):\n",
    "        selected=solution[0:25]\n",
    "        R=fitness(selected)\n",
    "        parents=mk_parent(selected,fitness(selected),bestsize)\n",
    "        children=babies(parents,bestsize)\n",
    "        solset=mutate_children(children,rate)\n",
    "        solved=[]\n",
    "        for k in range(len(children)):\n",
    "            solved.append(edge_exchange(solset[k],D))\n",
    "        solution=make_sol(solved)\n",
    "        for j in range(0,bestsize):\n",
    "            solution.append(selected[j])\n",
    "        solution=sortsol(solution)\n",
    "        #print(solution)\n",
    "        best=solution[0]\n",
    "        #performance.append((best[1],i))\n",
    "        i+=1\n",
    "        if best[0]!= prevbest:\n",
    "            prevbest=best[0]\n",
    "            print(*prevbest)\n",
    "    return\n",
    "        \n",
    "        "
   ]
  },
  {
   "cell_type": "code",
   "execution_count": null,
   "metadata": {},
   "outputs": [],
   "source": [
    "import numpy as np\n",
    "N=return_type_n(1)[1]\n",
    "D=distmatrix(N)\n",
    "ra=[]\n",
    "for i in range(10):\n",
    "    ra.append(genetic_algorithmfinal(D,N,20,i/10))"
   ]
  },
  {
   "cell_type": "code",
   "execution_count": 28,
   "metadata": {},
   "outputs": [
    {
     "name": "stderr",
     "output_type": "stream",
     "text": [
      "No handles with labels found to put in legend.\n"
     ]
    },
    {
     "data": {
      "image/png": "[encoded data removed]",
      "text/plain": [
       "<Figure size 432x288 with 1 Axes>"
      ]
     },
     "metadata": {
      "needs_background": "light"
     },
     "output_type": "display_data"
    }
   ],
   "source": [
    "import matplotlib.pyplot as plt\n",
    "from matplotlib.font_manager import FontProperties\n",
    "fontP = FontProperties()\n",
    "fontP.set_size('large')\n",
    "colors=['b', 'g','r','c', 'y', 'm', 'k','slategrey','orange','sienna','tab:brown','tab:purple','w']\n",
    "for i in range(int(len(ra))):\n",
    "    testList2 = [(elem1, elem2) for elem2, elem1 in ra[i][1]]\n",
    "    zip(*testList2)\n",
    "    p=plt.plot(*zip(*testList2),label=str(i/10),c=colors[i])\n",
    "plt.xlabel('generations')\n",
    "plt.ylabel('cost')\n",
    "plt.title('')\n",
    "plt.legend(title='', bbox_to_anchor=(1.05, 1), loc='upper left', prop=fontP)\n",
    "\n",
    "plt.show()"
   ]
  },
  {
   "cell_type": "code",
   "execution_count": 26,
   "metadata": {},
   "outputs": [
    {
     "name": "stdout",
     "output_type": "stream",
     "text": [
      "58 11 86 6 13 21 41 42 85 83 2 71 94 18 28 33 35 10 81 4 84 46 93 97 65 49 1 16 39 23 48 19 73 60 55 22 54 76 69 59 89 5 66 56 92 36 40 82 74 62 50 78 53 90 91 8 37 75 47 29 25 57 87 24 44 7 68 9 26 52 96 43 77 72 70 27 12 14 98 15 67 32 79 38 51 99 95 63 30 45 64 31 3 0 88 34 80 61 17 20\n",
      "1 16 39 53 90 92 56 66 5 4 81 10 35 33 28 89 59 69 76 54 22 55 60 73 19 48 23 96 21 13 6 86 11 58 34 80 61 17 24 44 7 68 43 77 72 70 27 12 14 36 40 82 41 78 50 62 88 8 91 95 63 30 71 18 94 20 42 85 83 2 37 75 47 29 25 57 87 74 9 26 52 45 64 84 46 93 97 65 49 99 67 15 98 32 79 38 51 0 3 31\n"
     ]
    },
    {
     "data": {
      "text/plain": [
       "[1, 16, 39, 53, 90, 92, 56, 66, 5, 4, 81, 10, 35, 33, 28, 89, 59, 69, 76, 54, 22, 55, 60, 73, 19, 48, 23, 96, 21, 13, 6, 86, 11, 58, 34, 80, 61, 17, 24, 44, 7, 68, 43, 77, 72, 70, 27, 12, 14, 36, 40, 82, 41, 78, 50, 62, 88, 8, 91, 95, 63, 30, 71, 18, 94, 20, 42, 85, 83, 2, 37, 75, 47, 29, 25, 57, 87, 74, 9, 26, 52, 45, 64, 84, 46, 93, 97, 65, 49, 99, 67, 15, 98, 32, 79, 38, 51, 0, 3, 31]"
      ]
     },
     "execution_count": 26,
     "metadata": {},
     "output_type": "execute_result"
    }
   ],
   "source": [
    "genetic_algorithmfinal(D,N,20,0)"
   ]
  }
 ],
 "metadata": {
  "kernelspec": {
   "display_name": "Python 3",
   "language": "python",
   "name": "python3"
  },
  "language_info": {
   "codemirror_mode": {
    "name": "ipython",
    "version": 3
   },
   "file_extension": ".py",
   "mimetype": "text/x-python",
   "name": "python",
   "nbconvert_exporter": "python",
   "pygments_lexer": "ipython3",
   "version": "3.8.3"
  }
 },
 "nbformat": 4,
 "nbformat_minor": 4
}
